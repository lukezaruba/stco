{
 "cells": [
  {
   "cell_type": "markdown",
   "metadata": {},
   "source": [
    "# Tutorial: How to Select A-DBSCAN Parameters\n",
    "\n",
    "[A-DBSCAN](https://pysal.org/esda/generated/esda.adbscan.ADBSCAN.html#esda.adbscan.ADBSCAN) is the clustering algorithm used in `stco`. There are two primary parameters that are needed to run A-DBSCAN, regardless of whether it is run directly from `esda` or through the `TemporalADBSCAN` in `stco`, which are *eps* and *min_samples*.\n",
    "\n",
    "In this notebook, the process of selecting these parameters is walked through in a detailed manner."
   ]
  },
  {
   "cell_type": "markdown",
   "metadata": {},
   "source": [
    "## Eps\n",
    "Eps can be defined as, [\"the maximum distance between two samples for them to be considered as in the same neighborhood\"](https://pysal.org/esda/generated/esda.adbscan.ADBSCAN.html#esda.adbscan.ADBSCAN). This allows us to define how close points must be to be clustered together.\n",
    "\n",
    "One important note is that this value is in the same units as the coordinate system of the input data. So for example, if the data are points that use lat/long, then the unit of eps is degrees.\n",
    "\n",
    "For example, see below where 0.15 is the eps and means that we are looking at 0.15 degrees, which roughly tranlates to about 17 km. As a general rule of thumb, 1 degree is about 111 km, but this varies widely since the Earth is distorted, especially closer to the poles.\n",
    "\n",
    "```python\n",
    "tadbs = TemporalADBSCAN(data=my_dataframe, period=\"Y\", eps=0.15, min_sample_pct=0.01)\n",
    "```"
   ]
  },
  {
   "cell_type": "markdown",
   "metadata": {},
   "source": [
    "### Changing the Units\n",
    "\n",
    "Sometimes we want to be a little more precise with our measurements, rather than just guessing. Luckily, with GeoPandas we are able to easily transform the coordinate system of the dataset to get it into a better system that uses our preferred units. It is important to carefully think out what coordinate system you should use, because not all coordinate systems are intended for use anywhere.\n",
    "\n",
    "In the example of Minnesota accident points, where the input data is represented as lat/long (using the WGS84 Coordinate System, EPSG:4326), a couple reasonable coordinate systems to use might be NAD83 / UTM zone 15N (EPSG:26915) or WGS 84 / Pseudo-Mercator (EPSG:3857). Both of these options use meters as the unit, while the input of WGS84 uses degrees.\n",
    "\n",
    "For more information on available coordinate systems, check out [epsg.io](https://epsg.io/). For more information on how coordinate systems work, check out Esri's documentation [here](https://pro.arcgis.com/en/pro-app/3.1/help/mapping/properties/coordinate-systems-and-projections.htm)."
   ]
  },
  {
   "cell_type": "code",
   "execution_count": 1,
   "metadata": {},
   "outputs": [
    {
     "data": {
      "text/plain": [
       "<Geographic 2D CRS: EPSG:4326>\n",
       "Name: WGS 84\n",
       "Axis Info [ellipsoidal]:\n",
       "- Lat[north]: Geodetic latitude (degree)\n",
       "- Lon[east]: Geodetic longitude (degree)\n",
       "Area of Use:\n",
       "- name: World.\n",
       "- bounds: (-180.0, -90.0, 180.0, 90.0)\n",
       "Datum: World Geodetic System 1984 ensemble\n",
       "- Ellipsoid: WGS 84\n",
       "- Prime Meridian: Greenwich"
      ]
     },
     "execution_count": 1,
     "metadata": {},
     "output_type": "execute_result"
    }
   ],
   "source": [
    "# Import\n",
    "import geopandas as gpd\n",
    "\n",
    "# Read in data\n",
    "incidents = gpd.read_file(\"mn_accidents.geojson\")\n",
    "\n",
    "# Check current spatial reference\n",
    "incidents.crs"
   ]
  },
  {
   "cell_type": "code",
   "execution_count": 2,
   "metadata": {},
   "outputs": [
    {
     "data": {
      "text/plain": [
       "<Projected CRS: EPSG:3857>\n",
       "Name: WGS 84 / Pseudo-Mercator\n",
       "Axis Info [cartesian]:\n",
       "- X[east]: Easting (metre)\n",
       "- Y[north]: Northing (metre)\n",
       "Area of Use:\n",
       "- name: World between 85.06°S and 85.06°N.\n",
       "- bounds: (-180.0, -85.06, 180.0, 85.06)\n",
       "Coordinate Operation:\n",
       "- name: Popular Visualisation Pseudo-Mercator\n",
       "- method: Popular Visualisation Pseudo Mercator\n",
       "Datum: World Geodetic System 1984 ensemble\n",
       "- Ellipsoid: WGS 84\n",
       "- Prime Meridian: Greenwich"
      ]
     },
     "execution_count": 2,
     "metadata": {},
     "output_type": "execute_result"
    }
   ],
   "source": [
    "# Change spatial reference\n",
    "incidents = incidents.to_crs(epsg=3857)\n",
    "\n",
    "# Check spatial reference again\n",
    "incidents.crs"
   ]
  },
  {
   "cell_type": "code",
   "execution_count": 3,
   "metadata": {},
   "outputs": [
    {
     "data": {
      "text/html": [
       "<div>\n",
       "<style scoped>\n",
       "    .dataframe tbody tr th:only-of-type {\n",
       "        vertical-align: middle;\n",
       "    }\n",
       "\n",
       "    .dataframe tbody tr th {\n",
       "        vertical-align: top;\n",
       "    }\n",
       "\n",
       "    .dataframe thead th {\n",
       "        text-align: right;\n",
       "    }\n",
       "</style>\n",
       "<table border=\"1\" class=\"dataframe\">\n",
       "  <thead>\n",
       "    <tr style=\"text-align: right;\">\n",
       "      <th></th>\n",
       "      <th>icr</th>\n",
       "      <th>incident_type</th>\n",
       "      <th>incident_date</th>\n",
       "      <th>district</th>\n",
       "      <th>location_description</th>\n",
       "      <th>road_condition</th>\n",
       "      <th>vehicles_involved</th>\n",
       "      <th>city_id</th>\n",
       "      <th>geometry</th>\n",
       "    </tr>\n",
       "  </thead>\n",
       "  <tbody>\n",
       "    <tr>\n",
       "      <th>0</th>\n",
       "      <td>20601015</td>\n",
       "      <td>Injury</td>\n",
       "      <td>2020-03-04 07:35:00</td>\n",
       "      <td>2600 St. Cloud</td>\n",
       "      <td>Highway 4 at County Road 28, Danielson Twp, Me...</td>\n",
       "      <td>Dry</td>\n",
       "      <td>2</td>\n",
       "      <td>2</td>\n",
       "      <td>POINT (-10541569.500 5627356.138)</td>\n",
       "    </tr>\n",
       "    <tr>\n",
       "      <th>1</th>\n",
       "      <td>17901947</td>\n",
       "      <td>Injury</td>\n",
       "      <td>2017-09-09 18:39:00</td>\n",
       "      <td>2900 Detroit Lakes</td>\n",
       "      <td>Eastbound Hwy 10 between Bluffton and Wadena, ...</td>\n",
       "      <td>Dry</td>\n",
       "      <td>1</td>\n",
       "      <td>3</td>\n",
       "      <td>POINT (-10601375.156 5855512.170)</td>\n",
       "    </tr>\n",
       "    <tr>\n",
       "      <th>2</th>\n",
       "      <td>20902058</td>\n",
       "      <td>Injury</td>\n",
       "      <td>2020-12-07 16:30:00</td>\n",
       "      <td>2900 Detroit Lakes</td>\n",
       "      <td>Westbound Hwy 10 MP87, BLUFFTON TWP, Otter Tai...</td>\n",
       "      <td>Dry</td>\n",
       "      <td>1</td>\n",
       "      <td>3</td>\n",
       "      <td>POINT (-10602609.110 5855651.868)</td>\n",
       "    </tr>\n",
       "    <tr>\n",
       "      <th>3</th>\n",
       "      <td>19901575</td>\n",
       "      <td>Injury</td>\n",
       "      <td>2019-07-28 13:28:00</td>\n",
       "      <td>2900 Detroit Lakes</td>\n",
       "      <td>10 Highway / 77 County Road, Bluffton, Otter T...</td>\n",
       "      <td>Wet</td>\n",
       "      <td>1</td>\n",
       "      <td>3</td>\n",
       "      <td>POINT (-10601465.708 5855682.091)</td>\n",
       "    </tr>\n",
       "    <tr>\n",
       "      <th>4</th>\n",
       "      <td>17900227</td>\n",
       "      <td>Injury</td>\n",
       "      <td>2017-01-21 10:58:00</td>\n",
       "      <td>2900 Detroit Lakes</td>\n",
       "      <td>East bound Hwy 10 west of Bluffton, Bluffton T...</td>\n",
       "      <td>Wet</td>\n",
       "      <td>3</td>\n",
       "      <td>3</td>\n",
       "      <td>POINT (-10602609.110 5855651.868)</td>\n",
       "    </tr>\n",
       "    <tr>\n",
       "      <th>...</th>\n",
       "      <td>...</td>\n",
       "      <td>...</td>\n",
       "      <td>...</td>\n",
       "      <td>...</td>\n",
       "      <td>...</td>\n",
       "      <td>...</td>\n",
       "      <td>...</td>\n",
       "      <td>...</td>\n",
       "      <td>...</td>\n",
       "    </tr>\n",
       "    <tr>\n",
       "      <th>9954</th>\n",
       "      <td>17104577</td>\n",
       "      <td>Injury</td>\n",
       "      <td>2017-10-14 10:14:00</td>\n",
       "      <td>2100 Rochester</td>\n",
       "      <td>Highway 63 at Interstate 90, High Forest Twp, ...</td>\n",
       "      <td>Wet</td>\n",
       "      <td>2</td>\n",
       "      <td>2744</td>\n",
       "      <td>POINT (-10295746.011 5447658.245)</td>\n",
       "    </tr>\n",
       "    <tr>\n",
       "      <th>9955</th>\n",
       "      <td>22102611</td>\n",
       "      <td>Injury</td>\n",
       "      <td>2022-05-30 14:29:00</td>\n",
       "      <td>2100 Rochester</td>\n",
       "      <td>Southbound Highway 63 at westbound I-90 ramp, ...</td>\n",
       "      <td>Dry</td>\n",
       "      <td>1</td>\n",
       "      <td>2744</td>\n",
       "      <td>POINT (-10295746.011 5447658.245)</td>\n",
       "    </tr>\n",
       "    <tr>\n",
       "      <th>9956</th>\n",
       "      <td>22103710</td>\n",
       "      <td>Injury</td>\n",
       "      <td>2022-08-08 13:41:00</td>\n",
       "      <td>2100 Rochester</td>\n",
       "      <td>SB HWY 63 at WB I-90, HIGH FOREST TWP, Olmsted...</td>\n",
       "      <td>Dry</td>\n",
       "      <td>2</td>\n",
       "      <td>2744</td>\n",
       "      <td>POINT (-10295746.011 5447658.245)</td>\n",
       "    </tr>\n",
       "    <tr>\n",
       "      <th>9957</th>\n",
       "      <td>17100813</td>\n",
       "      <td>Injury</td>\n",
       "      <td>2017-02-14 11:00:00</td>\n",
       "      <td>2100 Rochester</td>\n",
       "      <td>Hwy 63 and 6th Street Stewartville, High Fores...</td>\n",
       "      <td>Dry</td>\n",
       "      <td>2</td>\n",
       "      <td>2744</td>\n",
       "      <td>POINT (-10295771.615 5442002.370)</td>\n",
       "    </tr>\n",
       "    <tr>\n",
       "      <th>9958</th>\n",
       "      <td>21101955</td>\n",
       "      <td>Injury</td>\n",
       "      <td>2021-05-02 15:41:00</td>\n",
       "      <td>2100 Rochester</td>\n",
       "      <td>Highway 63 and 6th st, STEWARTVILLE, Olmsted C...</td>\n",
       "      <td>Dry</td>\n",
       "      <td>2</td>\n",
       "      <td>2744</td>\n",
       "      <td>POINT (-10295771.615 5442002.370)</td>\n",
       "    </tr>\n",
       "  </tbody>\n",
       "</table>\n",
       "<p>9959 rows × 9 columns</p>\n",
       "</div>"
      ],
      "text/plain": [
       "           icr incident_type       incident_date            district  \\\n",
       "0     20601015        Injury 2020-03-04 07:35:00      2600 St. Cloud   \n",
       "1     17901947        Injury 2017-09-09 18:39:00  2900 Detroit Lakes   \n",
       "2     20902058        Injury 2020-12-07 16:30:00  2900 Detroit Lakes   \n",
       "3     19901575        Injury 2019-07-28 13:28:00  2900 Detroit Lakes   \n",
       "4     17900227        Injury 2017-01-21 10:58:00  2900 Detroit Lakes   \n",
       "...        ...           ...                 ...                 ...   \n",
       "9954  17104577        Injury 2017-10-14 10:14:00      2100 Rochester   \n",
       "9955  22102611        Injury 2022-05-30 14:29:00      2100 Rochester   \n",
       "9956  22103710        Injury 2022-08-08 13:41:00      2100 Rochester   \n",
       "9957  17100813        Injury 2017-02-14 11:00:00      2100 Rochester   \n",
       "9958  21101955        Injury 2021-05-02 15:41:00      2100 Rochester   \n",
       "\n",
       "                                   location_description road_condition  \\\n",
       "0     Highway 4 at County Road 28, Danielson Twp, Me...            Dry   \n",
       "1     Eastbound Hwy 10 between Bluffton and Wadena, ...            Dry   \n",
       "2     Westbound Hwy 10 MP87, BLUFFTON TWP, Otter Tai...            Dry   \n",
       "3     10 Highway / 77 County Road, Bluffton, Otter T...            Wet   \n",
       "4     East bound Hwy 10 west of Bluffton, Bluffton T...            Wet   \n",
       "...                                                 ...            ...   \n",
       "9954  Highway 63 at Interstate 90, High Forest Twp, ...            Wet   \n",
       "9955  Southbound Highway 63 at westbound I-90 ramp, ...            Dry   \n",
       "9956  SB HWY 63 at WB I-90, HIGH FOREST TWP, Olmsted...            Dry   \n",
       "9957  Hwy 63 and 6th Street Stewartville, High Fores...            Dry   \n",
       "9958  Highway 63 and 6th st, STEWARTVILLE, Olmsted C...            Dry   \n",
       "\n",
       "      vehicles_involved  city_id                           geometry  \n",
       "0                     2        2  POINT (-10541569.500 5627356.138)  \n",
       "1                     1        3  POINT (-10601375.156 5855512.170)  \n",
       "2                     1        3  POINT (-10602609.110 5855651.868)  \n",
       "3                     1        3  POINT (-10601465.708 5855682.091)  \n",
       "4                     3        3  POINT (-10602609.110 5855651.868)  \n",
       "...                 ...      ...                                ...  \n",
       "9954                  2     2744  POINT (-10295746.011 5447658.245)  \n",
       "9955                  1     2744  POINT (-10295746.011 5447658.245)  \n",
       "9956                  2     2744  POINT (-10295746.011 5447658.245)  \n",
       "9957                  2     2744  POINT (-10295771.615 5442002.370)  \n",
       "9958                  2     2744  POINT (-10295771.615 5442002.370)  \n",
       "\n",
       "[9959 rows x 9 columns]"
      ]
     },
     "execution_count": 3,
     "metadata": {},
     "output_type": "execute_result"
    }
   ],
   "source": [
    "# Look at data - geometry no longer using degrees!\n",
    "# Now we can use meters for our eps unit in ADBSCAN/TemporalADBSCAN\n",
    "incidents"
   ]
  },
  {
   "cell_type": "markdown",
   "metadata": {},
   "source": [
    "## Min Samples\n",
    "\n",
    "Min samples can be defined as, [\"the number of samples (or total weight) in a neighborhood for a point to be considered as a core point\"](https://pysal.org/esda/generated/esda.adbscan.ADBSCAN.html#esda.adbscan.ADBSCAN). It allows us to define how many points are needed to be considered a cluster.\n",
    "\n",
    "An important distinction to make here is that `ADBSCAN` in `esda` uses an integer to represent the actual number of minimum samples to use. `TemporalADBSCAN` in `stco` uses a float to represent a given **percentage** of the total number of points to use as the number of minimum samples, **for each individual period of time**.\n",
    "\n",
    "So in other words, if you were to pass in 0.01 as the `min_samples` parameter for `TemporalADBSCAN`, then for each period of time (e.g., year, month, week, whatever you choose), 1% of the total number of features for that period will be used as the number of features. For example, if there were 1000 features in time step 1, then `1000 * 0.01 = 10`. Then if time step 2 had 1500 features, `1500 * 0.01 = 15`. So each period would have the same percentage used, but the raw values would differ."
   ]
  },
  {
   "cell_type": "markdown",
   "metadata": {},
   "source": [
    "### Finding an Appropriate Percentage\n",
    "\n",
    "The first step at figuring out what percentage to use is to actually break the data down and see how many values there are in each period. Below, we will look at how many accidents there are for each year.\n",
    "\n",
    "An important thing to note is that the period type used below (denoted as a single letter like \"Y\" for Year, \"W\" for week, etc...) should be the same value that will get passed into TemporalADBSCAN's period parameter."
   ]
  },
  {
   "cell_type": "code",
   "execution_count": 4,
   "metadata": {},
   "outputs": [
    {
     "data": {
      "text/html": [
       "<div>\n",
       "<style scoped>\n",
       "    .dataframe tbody tr th:only-of-type {\n",
       "        vertical-align: middle;\n",
       "    }\n",
       "\n",
       "    .dataframe tbody tr th {\n",
       "        vertical-align: top;\n",
       "    }\n",
       "\n",
       "    .dataframe thead th {\n",
       "        text-align: right;\n",
       "    }\n",
       "</style>\n",
       "<table border=\"1\" class=\"dataframe\">\n",
       "  <thead>\n",
       "    <tr style=\"text-align: right;\">\n",
       "      <th></th>\n",
       "      <th>icr</th>\n",
       "      <th>incident_type</th>\n",
       "      <th>incident_date</th>\n",
       "      <th>district</th>\n",
       "      <th>location_description</th>\n",
       "      <th>road_condition</th>\n",
       "      <th>vehicles_involved</th>\n",
       "      <th>city_id</th>\n",
       "      <th>geometry</th>\n",
       "      <th>PERIOD</th>\n",
       "    </tr>\n",
       "  </thead>\n",
       "  <tbody>\n",
       "    <tr>\n",
       "      <th>0</th>\n",
       "      <td>20601015</td>\n",
       "      <td>Injury</td>\n",
       "      <td>2020-03-04 07:35:00</td>\n",
       "      <td>2600 St. Cloud</td>\n",
       "      <td>Highway 4 at County Road 28, Danielson Twp, Me...</td>\n",
       "      <td>Dry</td>\n",
       "      <td>2</td>\n",
       "      <td>2</td>\n",
       "      <td>POINT (-10541569.500 5627356.138)</td>\n",
       "      <td>2020</td>\n",
       "    </tr>\n",
       "    <tr>\n",
       "      <th>1</th>\n",
       "      <td>17901947</td>\n",
       "      <td>Injury</td>\n",
       "      <td>2017-09-09 18:39:00</td>\n",
       "      <td>2900 Detroit Lakes</td>\n",
       "      <td>Eastbound Hwy 10 between Bluffton and Wadena, ...</td>\n",
       "      <td>Dry</td>\n",
       "      <td>1</td>\n",
       "      <td>3</td>\n",
       "      <td>POINT (-10601375.156 5855512.170)</td>\n",
       "      <td>2017</td>\n",
       "    </tr>\n",
       "    <tr>\n",
       "      <th>2</th>\n",
       "      <td>20902058</td>\n",
       "      <td>Injury</td>\n",
       "      <td>2020-12-07 16:30:00</td>\n",
       "      <td>2900 Detroit Lakes</td>\n",
       "      <td>Westbound Hwy 10 MP87, BLUFFTON TWP, Otter Tai...</td>\n",
       "      <td>Dry</td>\n",
       "      <td>1</td>\n",
       "      <td>3</td>\n",
       "      <td>POINT (-10602609.110 5855651.868)</td>\n",
       "      <td>2020</td>\n",
       "    </tr>\n",
       "    <tr>\n",
       "      <th>3</th>\n",
       "      <td>19901575</td>\n",
       "      <td>Injury</td>\n",
       "      <td>2019-07-28 13:28:00</td>\n",
       "      <td>2900 Detroit Lakes</td>\n",
       "      <td>10 Highway / 77 County Road, Bluffton, Otter T...</td>\n",
       "      <td>Wet</td>\n",
       "      <td>1</td>\n",
       "      <td>3</td>\n",
       "      <td>POINT (-10601465.708 5855682.091)</td>\n",
       "      <td>2019</td>\n",
       "    </tr>\n",
       "    <tr>\n",
       "      <th>4</th>\n",
       "      <td>17900227</td>\n",
       "      <td>Injury</td>\n",
       "      <td>2017-01-21 10:58:00</td>\n",
       "      <td>2900 Detroit Lakes</td>\n",
       "      <td>East bound Hwy 10 west of Bluffton, Bluffton T...</td>\n",
       "      <td>Wet</td>\n",
       "      <td>3</td>\n",
       "      <td>3</td>\n",
       "      <td>POINT (-10602609.110 5855651.868)</td>\n",
       "      <td>2017</td>\n",
       "    </tr>\n",
       "  </tbody>\n",
       "</table>\n",
       "</div>"
      ],
      "text/plain": [
       "        icr incident_type       incident_date            district  \\\n",
       "0  20601015        Injury 2020-03-04 07:35:00      2600 St. Cloud   \n",
       "1  17901947        Injury 2017-09-09 18:39:00  2900 Detroit Lakes   \n",
       "2  20902058        Injury 2020-12-07 16:30:00  2900 Detroit Lakes   \n",
       "3  19901575        Injury 2019-07-28 13:28:00  2900 Detroit Lakes   \n",
       "4  17900227        Injury 2017-01-21 10:58:00  2900 Detroit Lakes   \n",
       "\n",
       "                                location_description road_condition  \\\n",
       "0  Highway 4 at County Road 28, Danielson Twp, Me...            Dry   \n",
       "1  Eastbound Hwy 10 between Bluffton and Wadena, ...            Dry   \n",
       "2  Westbound Hwy 10 MP87, BLUFFTON TWP, Otter Tai...            Dry   \n",
       "3  10 Highway / 77 County Road, Bluffton, Otter T...            Wet   \n",
       "4  East bound Hwy 10 west of Bluffton, Bluffton T...            Wet   \n",
       "\n",
       "   vehicles_involved  city_id                           geometry PERIOD  \n",
       "0                  2        2  POINT (-10541569.500 5627356.138)   2020  \n",
       "1                  1        3  POINT (-10601375.156 5855512.170)   2017  \n",
       "2                  1        3  POINT (-10602609.110 5855651.868)   2020  \n",
       "3                  1        3  POINT (-10601465.708 5855682.091)   2019  \n",
       "4                  3        3  POINT (-10602609.110 5855651.868)   2017  "
      ]
     },
     "execution_count": 4,
     "metadata": {},
     "output_type": "execute_result"
    }
   ],
   "source": [
    "# Choose period value\n",
    "period_value = \"Y\"\n",
    "\n",
    "# Create new column with period for each record\n",
    "incidents[\"PERIOD\"] = incidents[\"incident_date\"].dt.to_period(period_value).astype(str)\n",
    "\n",
    "# Display data\n",
    "incidents.head()"
   ]
  },
  {
   "cell_type": "code",
   "execution_count": 5,
   "metadata": {},
   "outputs": [
    {
     "data": {
      "text/plain": [
       "PERIOD\n",
       "2017    1707\n",
       "2018    1640\n",
       "2019    1586\n",
       "2020    1273\n",
       "2021    1384\n",
       "2022    1256\n",
       "2023    1113\n",
       "Name: PERIOD, dtype: int64"
      ]
     },
     "execution_count": 5,
     "metadata": {},
     "output_type": "execute_result"
    }
   ],
   "source": [
    "# Group data by the period and find the total number of features for each\n",
    "incidents.groupby([\"PERIOD\"])[\"PERIOD\"].count()"
   ]
  },
  {
   "cell_type": "code",
   "execution_count": 6,
   "metadata": {},
   "outputs": [
    {
     "data": {
      "text/plain": [
       "1422.7142857142858"
      ]
     },
     "execution_count": 6,
     "metadata": {},
     "output_type": "execute_result"
    }
   ],
   "source": [
    "# We can also look at the mean number for each period\n",
    "incidents.groupby([\"PERIOD\"])[\"PERIOD\"].count().mean()"
   ]
  },
  {
   "cell_type": "markdown",
   "metadata": {},
   "source": [
    "This means that on average, if 0.01 (1%) was used as the `min_samples_percentage` parameter for TemporalADBSCAN, then 14 or so would the the average `min_samples` parameter used by A-DBSCAN for each period.\n",
    "\n",
    "This seems like a reasonable number! But we could adjust the percentage to get to our desired average value."
   ]
  },
  {
   "cell_type": "markdown",
   "metadata": {},
   "source": [
    "## The Relationship between Eps and Min Samples\n",
    "\n",
    "There is also another way to determine the ideal values for the parameters, by looking at the relationship between the two parameters. As noted in the `esda` [tutorial](https://pysal.org/esda/notebooks/adbscan_berlin_example.html) on A-DBSCAN, we can use the desried density in conjunction with one of the parameters to calculate the other. Mathematically, this is defined as:\n",
    "\n",
    "$$Density = {Min \\text{ } Samples \\over \\pi * Eps^2} $$\n",
    "\n",
    "So in our example above, where we decided on using 1% for the minimum sample percentage (on average, a value of 142) and 0.15 degrees for the eps (roughly 17 km), we can calculate the density at which we consider a cluster as:\n",
    "\n",
    "$$Density = {14 \\text{ } accidents \\over \\pi * 17 km^2} \\text{ or } 0.015 \\text{ } accidents / km^2 $$"
   ]
  },
  {
   "cell_type": "markdown",
   "metadata": {},
   "source": [
    "### What if we want to change the density?\n",
    "\n",
    "Maybe we want to achieve an accident density of 0.025 instead.\n",
    "\n",
    "We can do this two ways, either by keeping the eps at 0.15 degrees (17 km) or by keeping the min sample percentage at 1% (14 accidents). We will do it both ways below."
   ]
  },
  {
   "cell_type": "markdown",
   "metadata": {},
   "source": [
    "#### Eps = 0.15 degrees (17km) & Unknown Min Samples\n",
    "\n",
    "$$Min\\text{ }Samples = {0.025 \\text{ } accidents / km^2 * \\pi * 17 km^2} \\text{ or } 23 \\text{ } accidents \\text{ }(~1.6 \\text{ } percent)$$\n",
    "\n",
    "Output: 1.6% min sample percentage, 17km eps"
   ]
  },
  {
   "cell_type": "markdown",
   "metadata": {},
   "source": [
    "#### Min Samples = 1% (14) & Unknown Eps\n",
    "\n",
    "$$Eps = \\sqrt{14 \\text{ } accidents \\over \\pi * 0.025 \\text{ } accidents / km^2} \\text{ or } 13.4 \\text{ } km \\text{ }(~0.12 \\text{ } degrees)$$\n",
    "\n",
    "Output: 1% min sample percentage, 13km eps"
   ]
  }
 ],
 "metadata": {
  "kernelspec": {
   "display_name": ".env",
   "language": "python",
   "name": "python3"
  },
  "language_info": {
   "codemirror_mode": {
    "name": "ipython",
    "version": 3
   },
   "file_extension": ".py",
   "mimetype": "text/x-python",
   "name": "python",
   "nbconvert_exporter": "python",
   "pygments_lexer": "ipython3",
   "version": "3.10.10"
  }
 },
 "nbformat": 4,
 "nbformat_minor": 2
}
